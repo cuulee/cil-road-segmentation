{
 "cells": [
  {
   "cell_type": "code",
   "execution_count": 24,
   "metadata": {
    "collapsed": true
   },
   "outputs": [],
   "source": [
    "import subprocess # subprocess.call(['./test.sh'])\n",
    "import os\n",
    "from os import listdir\n",
    "from tqdm import tqdm\n",
    "import matplotlib.pyplot as plt\n",
    "from scipy import ndimage, misc, stats\n",
    "import numpy as np\n",
    "import pandas as pd\n",
    "\n",
    "CURRENT_DIR  = '.'\n",
    "ground_t_dir = CURRENT_DIR + '/data/training/groundtruth/'\n",
    "images_dir   = CURRENT_DIR + '/data/training/images/'\n",
    "input_path   = '{}/generate/patches/org/'.format(CURRENT_DIR)\n",
    "output_path   = '{}/generate/patches/dst/'.format(CURRENT_DIR)\n",
    "\n",
    "ground_t_path = output_dir + '00000.png'\n",
    "\n",
    "if not os.path.exists(output_path):\n",
    "    os.makedirs(output_path)\n",
    "\n",
    "def closest_node(node, nodes):\n",
    "    nodes = np.asarray(nodes)\n",
    "    dist_2 = np.sum((nodes - node)**2, axis=1)\n",
    "    return np.argmin(dist_2)\n",
    "\n",
    "def save_distances(input_path, output_path, img_name):\n",
    "    img_org = ndimage.imread(input_path+img_name, mode='L')\n",
    "    img_org[img_org < 127] = 0\n",
    "    img_org[img_org >= 127] = 255\n",
    "    road_pxs     = np.argwhere(img_org != 0)\n",
    "    non_road_pxs = np.argwhere(img_org == 0)\n",
    "    output = np.zeros(img_org.shape, dtype=np.int)\n",
    "    if len(road_pxs) == 0:\n",
    "        return\n",
    "    for coord in non_road_pxs:\n",
    "        closest_px = road_pxs[closest_node(coord, road_pxs)]\n",
    "        output[tuple(coord)] = (coord[0]-closest_px[0])**2 + (coord[1]-closest_px[1])**2\n",
    "    \n",
    "    misc.imsave(output_path+img_name, output)"
   ]
  },
  {
   "cell_type": "code",
   "execution_count": 25,
   "metadata": {
    "collapsed": true
   },
   "outputs": [],
   "source": [
    "for f in listdir(input_path):\n",
    "    save_distances(input_path, output_path, f)"
   ]
  }
 ],
 "metadata": {
  "kernelspec": {
   "display_name": "Python 3",
   "language": "python",
   "name": "python3"
  },
  "language_info": {
   "codemirror_mode": {
    "name": "ipython",
    "version": 3
   },
   "file_extension": ".py",
   "mimetype": "text/x-python",
   "name": "python",
   "nbconvert_exporter": "python",
   "pygments_lexer": "ipython3",
   "version": "3.5.0"
  }
 },
 "nbformat": 4,
 "nbformat_minor": 1
}

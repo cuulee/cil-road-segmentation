{
 "cells": [
  {
   "cell_type": "code",
   "execution_count": 46,
   "metadata": {
    "collapsed": false
   },
   "outputs": [],
   "source": [
    "from os import listdir\n",
    "import os\n",
    "from scipy import misc, stats, ndimage\n",
    "import matplotlib.pyplot as plt\n",
    "import numpy as np\n",
    "from skimage.draw import line_aa\n",
    "from tqdm import tqdm\n",
    "\n",
    "def closest_nodes(node, nodes):\n",
    "    nodes = np.asarray(nodes)\n",
    "    dist_2 = np.sqrt(np.sum((nodes - node)**2, axis=1))\n",
    "    result = nodes[np.argwhere(dist_2 <= threshold)]\n",
    "    if len(result) == 1:\n",
    "        return None\n",
    "    else:\n",
    "        return result\n",
    "\n",
    "def create_dir(directory):\n",
    "    if not os.path.exists(directory):\n",
    "        os.makedirs(directory)\n",
    "        \n",
    "def precision(predicted, groundtruth):\n",
    "    hits     = len(np.argwhere((predicted == groundtruth and predicted == 255)))\n",
    "    returned = len(np.argwhere(predicted == 255))\n",
    "    return hits / returned\n",
    "\n",
    "def recall(predicted, groundtruth):\n",
    "    hits     = len(np.argwhere((predicted == groundtruth and predicted == 255)))\n",
    "    correct  = len(np.argwhere(groundtruth == 255))\n",
    "    "
   ]
  },
  {
   "cell_type": "code",
   "execution_count": 52,
   "metadata": {
    "collapsed": false,
    "scrolled": false
   },
   "outputs": [
    {
     "name": "stderr",
     "output_type": "stream",
     "text": [
      "\r",
      "  0%|          | 0/50 [00:00<?, ?it/s]"
     ]
    },
    {
     "name": "stdout",
     "output_type": "stream",
     "text": [
      "starting threshold: 20\n"
     ]
    },
    {
     "name": "stderr",
     "output_type": "stream",
     "text": [
      "/Library/Frameworks/Python.framework/Versions/3.5/lib/python3.5/site-packages/ipykernel/__main__.py:16: FutureWarning: comparison to `None` will result in an elementwise object comparison in the future.\n",
      "100%|██████████| 50/50 [00:27<00:00,  1.72it/s]\n"
     ]
    }
   ],
   "source": [
    "samples_locations = './Output_samples/'\n",
    "for threshold in (20,):\n",
    "    print('starting threshold: {}'.format(threshold))\n",
    "    for file in tqdm(listdir(samples_locations)):\n",
    "        if file[0]=='.': continue\n",
    "        img = misc.imread(samples_locations+file)\n",
    "        eroded = ndimage.binary_erosion(img / 255).astype(img.dtype)\n",
    "        thin = img - eroded*255\n",
    "        pairs = []\n",
    "\n",
    "        new_img = np.zeros(thin.shape)\n",
    "        road_pxs = np.argwhere(thin == 1)\n",
    "\n",
    "        for pixel_road in road_pxs:\n",
    "            closest_pxs = closest_nodes(pixel_road, road_pxs)\n",
    "            if closest_pxs != None:\n",
    "                for pixel in closest_pxs:\n",
    "                    pairs += [[pixel_road, pixel[0]]]\n",
    "        for x, y in pairs:\n",
    "            rr, cc, val = line_aa(x[0], x[1], y[0], y[1])\n",
    "            new_img[rr, cc] = val * 255\n",
    "        new_img = new_img + img\n",
    "        new_img[new_img!=0] = 255\n",
    "        create_dir('../results_smooth/{}'.format(threshold))\n",
    "        misc.imsave('../results_smooth/{}/{}'.format(threshold, file), new_img)"
   ]
  },
  {
   "cell_type": "code",
   "execution_count": null,
   "metadata": {
    "collapsed": true
   },
   "outputs": [],
   "source": []
  }
 ],
 "metadata": {
  "kernelspec": {
   "display_name": "Python 3",
   "language": "python",
   "name": "python3"
  },
  "language_info": {
   "codemirror_mode": {
    "name": "ipython",
    "version": 3
   },
   "file_extension": ".py",
   "mimetype": "text/x-python",
   "name": "python",
   "nbconvert_exporter": "python",
   "pygments_lexer": "ipython3",
   "version": "3.5.0"
  }
 },
 "nbformat": 4,
 "nbformat_minor": 1
}

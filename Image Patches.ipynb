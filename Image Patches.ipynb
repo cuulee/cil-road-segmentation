{
 "cells": [
  {
   "cell_type": "markdown",
   "metadata": {},
   "source": [
    "### Extract image patches"
   ]
  },
  {
   "cell_type": "code",
   "execution_count": 1,
   "metadata": {
    "collapsed": true
   },
   "outputs": [],
   "source": [
    "import subprocess # subprocess.call(['./test.sh'])\n",
    "import os\n",
    "from os import listdir\n",
    "from tqdm import tqdm\n",
    "import matplotlib.pyplot as plt\n",
    "from scipy import ndimage, misc, stats\n",
    "import numpy as np\n",
    "import pandas as pd"
   ]
  },
  {
   "cell_type": "code",
   "execution_count": 2,
   "metadata": {
    "collapsed": false
   },
   "outputs": [],
   "source": [
    "CURRENT_DIR  = '.'\n",
    "ground_t_dir = CURRENT_DIR + '/data/training/groundtruth/'\n",
    "images_dir   = CURRENT_DIR + '/data/training/images/'\n",
    "output_dir   = '{}/generate/patches_rotation/'.format(CURRENT_DIR)\n",
    "\n",
    "if not os.path.exists(output_dir):\n",
    "    os.makedirs(output_dir)\n",
    "if not os.path.exists(output_dir+'org'):\n",
    "    os.makedirs(output_dir+'org')\n",
    "if not os.path.exists(output_dir+'sat'):\n",
    "    os.makedirs(output_dir+'sat')"
   ]
  },
  {
   "cell_type": "markdown",
   "metadata": {},
   "source": [
    "### Test one image"
   ]
  },
  {
   "cell_type": "code",
   "execution_count": 3,
   "metadata": {
    "collapsed": true
   },
   "outputs": [],
   "source": [
    "patch_size = 200\n",
    "index = 0\n",
    "\n",
    "def generate_images(ground_t_path, image_path, patch_size):\n",
    "    global index\n",
    "    img_org = ndimage.imread(ground_t_path, mode='L')\n",
    "    img_sat = ndimage.imread(image_path)\n",
    "\n",
    "    for l, r in [(0,0), (0,200), (200,0), (200,200)]:\n",
    "        \n",
    "        patch_org = img_org[l:(l+200), r:(r+200)]\n",
    "        patch_sat = img_sat[l:(l+200), r:(r+200)]\n",
    "    \n",
    "        org_name = '{}org/{}.png'.format(output_dir,str(index).zfill(5))\n",
    "        sat_name = '{}sat/{}.png'.format(output_dir,str(index).zfill(5))\n",
    "\n",
    "        # '''\n",
    "        rotation  = np.random.randint(0,4)\n",
    "        patch_org = np.rot90(patch_org, rotation)\n",
    "        patch_sat = np.rot90(patch_sat, rotation)\n",
    "        # '''\n",
    "        \n",
    "        misc.imsave(org_name, patch_org)\n",
    "        misc.imsave(sat_name, patch_sat)\n",
    "        index += 1"
   ]
  },
  {
   "cell_type": "code",
   "execution_count": 4,
   "metadata": {
    "collapsed": false
   },
   "outputs": [
    {
     "name": "stderr",
     "output_type": "stream",
     "text": [
      "100%|██████████| 100/100 [00:11<00:00,  8.16it/s]\n"
     ]
    }
   ],
   "source": [
    "index = 0\n",
    "for file in tqdm(listdir(images_dir)):\n",
    "    generate_images(ground_t_dir+file, images_dir+file, 200)"
   ]
  },
  {
   "cell_type": "code",
   "execution_count": null,
   "metadata": {
    "collapsed": true
   },
   "outputs": [],
   "source": []
  }
 ],
 "metadata": {
  "kernelspec": {
   "display_name": "Python 3",
   "language": "python",
   "name": "python3"
  },
  "language_info": {
   "codemirror_mode": {
    "name": "ipython",
    "version": 3
   },
   "file_extension": ".py",
   "mimetype": "text/x-python",
   "name": "python",
   "nbconvert_exporter": "python",
   "pygments_lexer": "ipython3",
   "version": "3.5.0"
  }
 },
 "nbformat": 4,
 "nbformat_minor": 2
}
